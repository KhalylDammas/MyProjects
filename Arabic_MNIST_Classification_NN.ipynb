{
  "cells": [
    {
      "cell_type": "markdown",
      "metadata": {
        "id": "view-in-github",
        "colab_type": "text"
      },
      "source": [
        "<a href=\"https://colab.research.google.com/github/KhalylDammas/MyProjects/blob/main/Arabic_MNIST_Classification_NN.ipynb\" target=\"_parent\"><img src=\"https://colab.research.google.com/assets/colab-badge.svg\" alt=\"Open In Colab\"/></a>"
      ]
    },
    {
      "cell_type": "code",
      "execution_count": null,
      "id": "ee150930-0d92-42b5-bc10-c79708ff99dd",
      "metadata": {
        "id": "ee150930-0d92-42b5-bc10-c79708ff99dd"
      },
      "outputs": [],
      "source": [
        "import os\n",
        "import time\n",
        "import numpy as np\n",
        "import pandas as pd\n",
        "import torch\n",
        "import torch.nn as nn\n",
        "import torch.optim as optim\n",
        "import torch.nn.functional as F\n",
        "from torch.utils.data import DataLoader, Dataset\n",
        "from torchvision import models, transforms\n",
        "import matplotlib.pyplot as plt\n",
        "%matplotlib inline"
      ]
    },
    {
      "cell_type": "code",
      "execution_count": null,
      "id": "cfd9f86d-70e1-4ec5-95ad-f9b51e4c2a22",
      "metadata": {
        "id": "cfd9f86d-70e1-4ec5-95ad-f9b51e4c2a22"
      },
      "outputs": [],
      "source": [
        "class MyDataset(Dataset):\n",
        "    def __init__(self, train=True):\n",
        "        super().__init__()\n",
        "        self.train = train\n",
        "        if self.train:\n",
        "            self.data = pd.read_csv(\"csvTrainImages 13440x1024.csv\")\n",
        "            self.lb = pd.read_csv(\"csvTrainLabel 13440x1.csv\")\n",
        "            \n",
        "        else:\n",
        "            self.data = pd.read_csv(\"csvTestImages 3360x1024.csv\")\n",
        "            self.lb = pd.read_csv(\"csvTestLabel 3360x1.csv\")\n",
        "\n",
        "    def __len__(self):\n",
        "        self.im = self.data.to_numpy().reshape(-1, 1, 32, 32)\n",
        "        return self.im.shape[0]\n",
        "    \n",
        "    def __getitem__(self, idx):\n",
        "        self.image = self.data.to_numpy().reshape(-1, 1, 32, 32)\n",
        "        self.label = self.lb.to_numpy().reshape(-1)-1\n",
        "        return (self.image[idx, :, :, :], self.label[idx])"
      ]
    },
    {
      "cell_type": "code",
      "execution_count": null,
      "id": "29728672-1488-45a8-a9ea-6f74532ac173",
      "metadata": {
        "id": "29728672-1488-45a8-a9ea-6f74532ac173"
      },
      "outputs": [],
      "source": [
        "train_dataset = MyDataset(train=True)\n",
        "test_dataset = MyDataset(train=False)\n",
        "\n",
        "train_loader = DataLoader(train_dataset, batch_size=64, shuffle=True)\n",
        "test_loader = DataLoader(test_dataset, batch_size=64, shuffle=True)"
      ]
    },
    {
      "cell_type": "code",
      "execution_count": null,
      "id": "a9bba527-c387-49c5-9d91-f7444566c562",
      "metadata": {
        "id": "a9bba527-c387-49c5-9d91-f7444566c562"
      },
      "outputs": [],
      "source": [
        "tl = iter(train_loader)\n",
        "batch_ = next(tl)"
      ]
    },
    {
      "cell_type": "code",
      "execution_count": null,
      "id": "cc6fd56f-cf61-4fb0-9c71-729a88b46f26",
      "metadata": {
        "id": "cc6fd56f-cf61-4fb0-9c71-729a88b46f26",
        "outputId": "1fe0dea8-7f9f-4e95-c452-846192aaf808"
      },
      "outputs": [
        {
          "data": {
            "text/plain": [
              "(64,)"
            ]
          },
          "execution_count": 7,
          "metadata": {},
          "output_type": "execute_result"
        }
      ],
      "source": [
        "np.array(batch_[1]).shape\n",
        "# plt.figure(figsize=(15, 15))\n",
        "# for i in range(20):\n",
        "#     plt.subplot(4, 5, i+1)\n",
        "#     plt.imshow(batch_[0][i, 0, :, :], cmap='gray')\n",
        "#     plt.title(batch_[1][i].item())\n",
        "# plt.show()"
      ]
    },
    {
      "cell_type": "code",
      "execution_count": null,
      "id": "f265c4bb-f00e-4441-b85e-d327ea11676e",
      "metadata": {
        "id": "f265c4bb-f00e-4441-b85e-d327ea11676e"
      },
      "outputs": [],
      "source": [
        "device = torch.device(\"cuda\")"
      ]
    },
    {
      "cell_type": "code",
      "execution_count": null,
      "id": "322d28b7-ce0d-4bc1-a0f5-aecd116837dd",
      "metadata": {
        "id": "322d28b7-ce0d-4bc1-a0f5-aecd116837dd"
      },
      "outputs": [],
      "source": [
        "net = models.resnet101(weights=models.ResNet101_Weights.IMAGENET1K_V1).to(device)"
      ]
    },
    {
      "cell_type": "code",
      "execution_count": null,
      "id": "a42cffb1-9e06-4eb0-aa64-a9b25eb39313",
      "metadata": {
        "id": "a42cffb1-9e06-4eb0-aa64-a9b25eb39313"
      },
      "outputs": [],
      "source": [
        "for params in net.parameters():\n",
        "    params.requires_grad=False"
      ]
    },
    {
      "cell_type": "code",
      "execution_count": null,
      "id": "4446d067-135d-4f1f-a306-5ef26162052b",
      "metadata": {
        "id": "4446d067-135d-4f1f-a306-5ef26162052b"
      },
      "outputs": [],
      "source": [
        "net.conv1 = nn.Conv2d(1, 64, kernel_size=(7, 7), stride=(2, 2), padding=(3, 3), bias=False)\n",
        "net.fc = nn.Linear(in_features=2048, out_features=28, bias=True)"
      ]
    },
    {
      "cell_type": "code",
      "execution_count": null,
      "id": "876455a8-2407-44dd-b1e0-6ccb9aa19af4",
      "metadata": {
        "id": "876455a8-2407-44dd-b1e0-6ccb9aa19af4",
        "outputId": "1990c193-d80d-437a-8754-1e23524d79b7"
      },
      "outputs": [
        {
          "name": "stdout",
          "output_type": "stream",
          "text": [
            "For Epoch: 1/200:\n",
            "Loss = 3640.688428878784\n",
            "Time = 23.63 seconds\t200 Epochs To go...\n",
            "--------------------------------------------------\n",
            "For Epoch: 20/200:\n",
            "Loss = 845.0070799589157\n",
            "Time = 23.15 seconds\t181 Epochs To go...\n",
            "--------------------------------------------------\n",
            "For Epoch: 40/200:\n",
            "Loss = 479.833391726017\n",
            "Time = 25.02 seconds\t161 Epochs To go...\n",
            "--------------------------------------------------\n",
            "For Epoch: 60/200:\n",
            "Loss = 431.8102347254753\n",
            "Time = 23.54 seconds\t141 Epochs To go...\n",
            "--------------------------------------------------\n",
            "For Epoch: 80/200:\n",
            "Loss = 427.4597113132477\n",
            "Time = 22.91 seconds\t121 Epochs To go...\n",
            "--------------------------------------------------\n",
            "For Epoch: 100/200:\n",
            "Loss = 432.0272481441498\n",
            "Time = 22.84 seconds\t101 Epochs To go...\n",
            "--------------------------------------------------\n",
            "For Epoch: 120/200:\n",
            "Loss = 434.72615015506744\n",
            "Time = 22.97 seconds\t81 Epochs To go...\n",
            "--------------------------------------------------\n",
            "For Epoch: 140/200:\n",
            "Loss = 432.4885279536247\n",
            "Time = 23.25 seconds\t61 Epochs To go...\n",
            "--------------------------------------------------\n",
            "For Epoch: 160/200:\n",
            "Loss = 416.8166158795357\n",
            "Time = 23.14 seconds\t41 Epochs To go...\n",
            "--------------------------------------------------\n",
            "For Epoch: 180/200:\n",
            "Loss = 422.1930769085884\n",
            "Time = 22.81 seconds\t21 Epochs To go...\n",
            "--------------------------------------------------\n",
            "For Epoch: 200/200:\n",
            "Loss = 436.4467705488205\n",
            "Time = 22.82 seconds\t1 Epochs To go...\n",
            "--------------------------------------------------\n",
            "__________________________________________________\n",
            "\n",
            "Training Done in 77.41 Minutes\n",
            "\n",
            "__________________________________________________\n"
          ]
        }
      ],
      "source": [
        "start = time.time()\n",
        "net = net.to(device)\n",
        "num_epochs = 200\n",
        "\n",
        "lr = 0.05\n",
        "\n",
        "opt = optim.Adam(params=net.parameters(), lr=lr)\n",
        "sch = optim.lr_scheduler.ExponentialLR(optimizer=opt, gamma=0.9)\n",
        "\n",
        "ls = []\n",
        "\n",
        "for i in range(num_epochs):\n",
        "    total_loss = 0\n",
        "    e_start = time.time()\n",
        "    for batch in train_loader:\n",
        "        X, y = batch[0].type(torch.FloatTensor).to(device), batch[1].to(device)\n",
        "        logits = net(X)\n",
        "        loss = F.cross_entropy(logits, y)\n",
        "        opt.zero_grad()\n",
        "        loss.backward()\n",
        "        opt.step()\n",
        "        total_loss+=loss.item()\n",
        "    sch.step()\n",
        "    ls.append(total_loss)\n",
        "    if ((i+1)%20 == 0) or (i == 0):\n",
        "        print(f\"For Epoch: {i+1}/{num_epochs}:\\nLoss = {ls[i]}\\nTime = {(time.time() - e_start):.2f} seconds\\t{num_epochs-i} Epochs To go...\")\n",
        "        print(\"-\"*50)\n",
        "print(\"_\"*50)\n",
        "print(f\"\\nTraining Done in {((time.time() - start)/60):.2f} Minutes\\n\")\n",
        "print(\"_\"*50)"
      ]
    },
    {
      "cell_type": "code",
      "execution_count": null,
      "id": "baf278e8-d848-4dea-85a5-f07cd39ce53f",
      "metadata": {
        "id": "baf278e8-d848-4dea-85a5-f07cd39ce53f",
        "outputId": "7c9cfb0f-6536-465c-9858-893526c76f97"
      },
      "outputs": [
        {
          "data": {
            "image/png": "[encoded data removed]",
            "text/plain": [
              "<Figure size 432x288 with 1 Axes>"
            ]
          },
          "metadata": {
            "needs_background": "light"
          },
          "output_type": "display_data"
        }
      ],
      "source": [
        "plt.plot(ls);"
      ]
    },
    {
      "cell_type": "code",
      "execution_count": null,
      "id": "434b8477-1517-4939-86ec-a690dbae0cfe",
      "metadata": {
        "id": "434b8477-1517-4939-86ec-a690dbae0cfe"
      },
      "outputs": [],
      "source": [
        "for params in net.parameters():\n",
        "    params.requires_grad=True"
      ]
    },
    {
      "cell_type": "code",
      "execution_count": null,
      "id": "ecd2474f-cb47-488f-b8b4-35af27edd90d",
      "metadata": {
        "id": "ecd2474f-cb47-488f-b8b4-35af27edd90d",
        "outputId": "d91eb21c-1f9c-418a-c600-6b8ad914f15d"
      },
      "outputs": [
        {
          "name": "stdout",
          "output_type": "stream",
          "text": [
            "For Epoch: 20/200:\n",
            "Loss = 174.20111295580864\n",
            "Time = 41.55 seconds\t181 To go...\n",
            "For Epoch: 40/200:\n",
            "Loss = 16.423697567544878\n",
            "Time = 41.76 seconds\t161 To go...\n",
            "For Epoch: 60/200:\n",
            "Loss = 5.661909096059389\n",
            "Time = 41.64 seconds\t141 To go...\n",
            "For Epoch: 80/200:\n",
            "Loss = 4.643654173996765\n",
            "Time = 41.70 seconds\t121 To go...\n",
            "For Epoch: 100/200:\n",
            "Loss = 4.238945743534714\n",
            "Time = 41.61 seconds\t101 To go...\n",
            "For Epoch: 120/200:\n",
            "Loss = 4.740964791504666\n",
            "Time = 41.56 seconds\t81 To go...\n",
            "For Epoch: 140/200:\n",
            "Loss = 4.101469878805801\n",
            "Time = 41.39 seconds\t61 To go...\n",
            "For Epoch: 160/200:\n",
            "Loss = 4.546560283284634\n",
            "Time = 41.46 seconds\t41 To go...\n",
            "For Epoch: 180/200:\n",
            "Loss = 4.993494214955717\n",
            "Time = 41.28 seconds\t21 To go...\n",
            "For Epoch: 200/200:\n",
            "Loss = 3.9393427157774568\n",
            "Time = 41.67 seconds\t1 To go...\n",
            "__________________________________________________\n",
            "\n",
            "Training Done in 139.04 Minutes\n",
            "\n",
            "__________________________________________________\n"
          ]
        }
      ],
      "source": [
        "start = time.time()\n",
        "num_epochs = 200\n",
        "\n",
        "lr = 1e-3\n",
        "\n",
        "opt = optim.Adam(params=net.parameters(), lr=lr)\n",
        "sch = optim.lr_scheduler.ExponentialLR(optimizer=opt, gamma=0.9)\n",
        "\n",
        "ls = []\n",
        "\n",
        "for i in range(num_epochs):\n",
        "    total_loss = 0\n",
        "    e_start = time.time()\n",
        "    for batch in train_loader:\n",
        "        X, y = batch[0].type(torch.FloatTensor).to(device), batch[1].to(device)\n",
        "        logits = net(X)\n",
        "        loss = F.cross_entropy(logits, y)\n",
        "        opt.zero_grad()\n",
        "        loss.backward()\n",
        "        opt.step()\n",
        "        total_loss+=loss.item()\n",
        "    sch.step()\n",
        "    ls.append(total_loss)\n",
        "    if ((i+1)%20 == 0):\n",
        "        print(f\"For Epoch: {i+1}/{num_epochs}:\\nLoss = {ls[i]}\\nTime = {(time.time() - e_start):.2f} seconds\\t{num_epochs-i} To go...\")\n",
        "print(\"_\"*50)\n",
        "print(f\"\\nTraining Done in {((time.time() - start)/60):.2f} Minutes\\n\")\n",
        "print(\"_\"*50)"
      ]
    },
    {
      "cell_type": "code",
      "execution_count": null,
      "id": "6dfa1189-abcf-48d5-9475-04c27a62c2d0",
      "metadata": {
        "id": "6dfa1189-abcf-48d5-9475-04c27a62c2d0",
        "outputId": "002fa89d-faed-4d2f-ce6e-c4985874f7ce"
      },
      "outputs": [
        {
          "data": {
            "image/png": "[encoded data removed]",
            "text/plain": [
              "<Figure size 432x288 with 1 Axes>"
            ]
          },
          "metadata": {
            "needs_background": "light"
          },
          "output_type": "display_data"
        }
      ],
      "source": [
        "plt.plot(ls);"
      ]
    },
    {
      "cell_type": "code",
      "execution_count": null,
      "id": "892d0fe2-261a-488d-b427-feee63add40c",
      "metadata": {
        "id": "892d0fe2-261a-488d-b427-feee63add40c",
        "outputId": "d2754bd3-9693-4427-8737-b37f4c60c2cd"
      },
      "outputs": [
        {
          "name": "stdout",
          "output_type": "stream",
          "text": [
            "tensor(0.8460, device='cuda:0')\n"
          ]
        }
      ],
      "source": [
        "@torch.no_grad()\n",
        "def test_accuracy(net, test_loader):\n",
        "  average_acc = 0\n",
        "  for batch in test_loader:\n",
        "    X, y = batch[0].type(torch.FloatTensor).to(device),  batch[1].to(device)\n",
        "    logits = net(X)\n",
        "    labels = torch.argmax(logits, axis = 1)\n",
        "    acc = torch.sum(labels == y, axis =0)/y.shape[0]\n",
        "    average_acc+=acc\n",
        "\n",
        "  print(average_acc/ len(test_loader))\n",
        "\n",
        "test_accuracy(net, test_loader)"
      ]
    },
    {
      "cell_type": "code",
      "execution_count": null,
      "id": "fb834ae8-a498-45e8-a79a-06a8b3d15a76",
      "metadata": {
        "id": "fb834ae8-a498-45e8-a79a-06a8b3d15a76"
      },
      "outputs": [],
      "source": []
    }
  ],
  "metadata": {
    "kernelspec": {
      "display_name": "Python 3 (ipykernel)",
      "language": "python",
      "name": "python3"
    },
    "language_info": {
      "codemirror_mode": {
        "name": "ipython",
        "version": 3
      },
      "file_extension": ".py",
      "mimetype": "text/x-python",
      "name": "python",
      "nbconvert_exporter": "python",
      "pygments_lexer": "ipython3",
      "version": "3.9.12"
    },
    "colab": {
      "provenance": [],
      "include_colab_link": true
    }
  },
  "nbformat": 4,
  "nbformat_minor": 5
}